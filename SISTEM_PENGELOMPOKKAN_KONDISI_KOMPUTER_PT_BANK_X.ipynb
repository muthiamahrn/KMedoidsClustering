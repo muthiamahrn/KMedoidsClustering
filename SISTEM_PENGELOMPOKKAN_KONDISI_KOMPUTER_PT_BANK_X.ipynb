{
  "nbformat": 4,
  "nbformat_minor": 0,
  "metadata": {
    "colab": {
      "name": "SISTEM PENGELOMPOKKAN KONDISI KOMPUTER PT BANK X.ipynb",
      "provenance": [],
      "collapsed_sections": []
    },
    "kernelspec": {
      "display_name": "Python 3",
      "name": "python3"
    }
  },
  "cells": [
    {
      "cell_type": "code",
      "metadata": {
        "id": "bzn5-gzWE51z"
      },
      "source": [
        "import pandas as pd \n",
        "import numpy as np\n",
        "from sklearn import preprocessing\n",
        "import matplotlib.pyplot as plt\n",
        "from sklearn.decomposition import PCA"
      ],
      "execution_count": null,
      "outputs": []
    },
    {
      "cell_type": "code",
      "metadata": {
        "colab": {
          "resources": {
            "http://localhost:8080/nbextensions/google.colab/files.js": {
              "data": "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",
              "ok": true,
              "headers": [
                [
                  "content-type",
                  "application/javascript"
                ]
              ],
              "status": 200,
              "status_text": ""
            }
          },
          "base_uri": "https://localhost:8080/",
          "height": 111
        },
        "id": "WfsISGZXFlZX",
        "outputId": "8bf1a2c2-9b38-4daf-8b34-b29eef38b39f"
      },
      "source": [
        "from google.colab import files\n",
        "files.upload()"
      ],
      "execution_count": null,
      "outputs": [
        {
          "output_type": "display_data",
          "data": {
            "text/html": [
              "\n",
              "     <input type=\"file\" id=\"files-2671a722-c38b-48e8-9e6f-cf11463f8be2\" name=\"files[]\" multiple disabled\n",
              "        style=\"border:none\" />\n",
              "     <output id=\"result-2671a722-c38b-48e8-9e6f-cf11463f8be2\">\n",
              "      Upload widget is only available when the cell has been executed in the\n",
              "      current browser session. Please rerun this cell to enable.\n",
              "      </output>\n",
              "      <script src=\"/nbextensions/google.colab/files.js\"></script> "
            ],
            "text/plain": [
              "<IPython.core.display.HTML object>"
            ]
          },
          "metadata": {
            "tags": []
          }
        },
        {
          "output_type": "stream",
          "text": [
            "Saving 100_DATASET_PC_BANK_X.csv to 100_DATASET_PC_BANK_X (3).csv\n"
          ],
          "name": "stdout"
        },
        {
          "output_type": "execute_result",
          "data": {
            "text/plain": [
              "{'100_DATASET_PC_BANK_X.csv': b'Device Name,OS Name,RAM,Processor Type,Harddisk Size,Application Errors,System Manufacturer,Umur\\r\\nTM1PC3192700100,13,3977,15,476938,19,2,4\\r\\nTM1PC0624090100,3,3476,15,476938,43,1,7\\r\\nTM1PC5844450100,3,3476,15,476938,190,1,7\\r\\nTM1PC0676880100,3,1919,14,476938,91,1,7\\r\\nTM1PC0351340100,3,3476,15,476938,8,1,7\\r\\nTM1PC5528660100,13,3977,15,476938,114,2,4\\r\\nTM1PC0728460100,3,3476,15,476938,73,1,7\\r\\nTM1PC274248001,23,3991,3,476938,1,1,2\\r\\nTM1PC1320550100,13,3977,15,476938,0,2,4\\r\\nTM1PC0698520100,3,1859,3,476938,11,4,8\\r\\nTM1PC4585310100,1,1917,9,152625,26,1,9\\r\\nTM1PC0321320100,13,3986,15,476938,21,1,5\\r\\nTM1PC0283070100,3,3476,15,476938,144,1,7\\r\\nTM1PC3630100200,23,3970,15,476938,109,1,7\\r\\nTM1PC0845190100,13,3977,15,476938,18,2,4\\r\\nTM1PC3131720100,23,8066,15,476938,3,1,7\\r\\nTM1PC0547350100,3,3476,15,76293,32,1,7\\r\\nTM1PC1030920100,3,3476,15,305243,240,1,7\\r\\nTM1PC0301130100,3,3476,15,476938,44,1,7\\r\\nTM1PC6277060100,3,3476,15,476938,79,1,7\\r\\nYUNIRTGS,3,3476,15,76317,148,1,7\\r\\nSKNBI4,3,3476,15,476938,15,1,7\\r\\nTM1PC0165550200,13,3970,15,476938,3,1,7\\r\\nSVRTPK,1,1014,5,38162,1,4,15\\r\\nTM1PC6526040100,1,1917,9,152625,0,1,9\\r\\nTM1PC0177870200,3,3476,15,76317,72,1,7\\r\\nZLP990091243,23,3977,15,476938,16,2,4\\r\\nTM1PC0771520100,13,3977,15,476938,10,2,4\\r\\nTM1PC0351340900,13,4002,15,476938,45,1,5\\r\\nTM1PC0484490200,3,3476,15,476938,70,1,7\\r\\nTM1PC0309560008,23,8066,15,476938,36,1,7\\r\\nTM1PC3639300100,23,3986,15,476938,82,1,5\\r\\nTM1PC363930100,3,3476,15,476938,17,1,5\\r\\nTM1PC0826240700,23,3991,3,476938,8,1,2\\r\\nTM1PC1259970300,3,3476,15,476938,5,1,7\\r\\nTM1PC5852520100,13,3977,15,476938,39,2,4\\r\\nSTPK,15,3973,15,476938,180,8,8\\r\\nTM1PC0255050100,3,3476,15,476938,117,1,7\\r\\nTM1PC0351340700,3,3476,15,476938,18,1,7\\r\\nTM1PC0695580200,23,3977,15,476938,46,2,4\\r\\nTM1PC0351340800,3,3476,15,476938,90,1,7\\r\\nSMAPC0170290200,23,3920,10,476938,11,1,1\\r\\nTM1PC0361300100,13,3977,15,476938,28,2,4\\r\\nTPK1580040,3,3476,15,476938,3,1,7\\r\\nBBF6576,5,1905,3,476938,56,9,5\\r\\nAGENTNOTE102271,23,3991,3,476938,1,1,2\\r\\nCLO99018096024,1,989,9,152625,0,4,10\\r\\nCLO99018178009,1,987,9,238473,0,2,9\\r\\nWM2PC0105620100,23,3932,10,476938,13,1,1\\r\\n10601058RLT,23,3920,10,476938,1,1,1\\r\\n1060194CLOAN,3,1947,3,476938,79,4,5\\r\\n99019SMEK,3,1917,3,476938,11,1,7\\r\\n1111162_CS,23,3991,3,476938,5,1,2\\r\\n1117854_MKA,23,3932,10,476938,106,1,1\\r\\n1117870_BOS1,23,3932,10,476938,91,1,1\\r\\nMKA1117808101,23,3932,10,476938,37,1,1\\r\\nRLT1117705201,23,3932,10,476938,7,1,1\\r\\n1117753_RLT,23,3932,10,476938,6,1,1\\r\\n1117760_MKA,23,3932,10,476938,39,1,1\\r\\n1117780_BOSS,23,3932,10,476938,98,1,1\\r\\n1080357_RLT,23,3991,3,476938,1,1,2\\r\\nVER-UB,23,3993,3,953867,59,1,3\\r\\n10901071_BO,23,3991,3,476938,9,1,1\\r\\nMM1NB6943470200,23,3976,16,244191,51,1,2\\r\\n11800148_ABCM,21,3977,16,953867,15,9,5\\r\\n12100-ABCM,23,8071,16,244191,41,4,2\\r\\nTM1NB3137110500,23,3972,15,953867,12,2,0\\r\\nTM1NB3137117800,23,3972,15,953867,5,2,0\\r\\nTM1NB2970150200,23,4013,15,476938,36,1,3\\r\\nTM1NB0201770100,23,4013,15,476938,1,1,3\\r\\nTM1NB0040110100,23,4013,15,238473,15,1,3\\r\\nTM1NB6182680100,23,4013,15,476938,16,1,3\\r\\nTM1NB2890390100,23,4013,15,476938,28,1,3\\r\\nTM1NB1805040100,23,4013,15,476938,31,1,3\\r\\nWM2NB5821440400,23,4013,15,476938,0,1,3\\r\\nLAPTOP-0U5OAV8S,23,7869,15,29949,0,4,0\\r\\nMM1NB7189141800,23,3927,15,953867,4,4,2\\r\\nZLPNB2932380100,23,3927,15,953867,7,4,2\\r\\nWM2NB5363920100,3,1908,14,29949,0,4,10\\r\\nWM2NB5966060100,23,7785,16,953867,1,4,0\\r\\nWM2NB2912610100,23,8035,16,244191,7,1,1\\r\\nWM2PC7289100100,23,16264,16,244191,79,2,2\\r\\nZLPNB0049730700,23,16107,16,476938,1,4,0\\r\\nDESKTOP-564RA8L,23,8035,16,244191,2,1,1\\r\\nMM1NB6640020500,23,3927,15,953867,4,4,2\\r\\nWM2NB7227780100,23,3927,15,476938,2,4,2\\r\\nWM2PC1602980400,23,7785,16,953867,1,4,0\\r\\nWM2NB0879250100,23,3927,15,476938,1,4,2\\r\\nWM2NB27026001,23,8072,16,244191,13,4,0\\r\\nWM1NB1690652623,23,8040,16,244191,52,4,3\\r\\nDESKTOP-QI2SPOT,23,16264,16,244191,43,2,2\\r\\nWM2NB5684310100,23,16264,16,244191,99,2,2\\r\\nWM2NB2926010100,23,16244,16,244191,123,2,2\\r\\nWM2NB4918420100,23,8075,16,244191,16,4,3\\r\\nWM2NB7148970100,23,16244,16,244191,71,2,2\\r\\nWM2PC004200100,23,8035,16,244191,6,1,1\\r\\nWM2PC719976200,23,16132,16,244191,14,4,1\\r\\n4,3,1985,15,610478,44,4,9\\r\\nRBC-REGIV,21,3968,15,476938,9,1,5\\r\\nKANWIL4_08,1,3201,14,476938,0,4,7\\r\\n'}"
            ]
          },
          "metadata": {
            "tags": []
          },
          "execution_count": 35
        }
      ]
    },
    {
      "cell_type": "code",
      "metadata": {
        "colab": {
          "base_uri": "https://localhost:8080/"
        },
        "id": "V-qV0hwMFDdS",
        "outputId": "52d1db8f-cfdc-4ce1-8b13-d6e91ef18aa1"
      },
      "source": [
        "df = pd.read_csv(\"100_DATASET_PC_BANK_X.csv\",  index_col=0) \n",
        "print(df) "
      ],
      "execution_count": null,
      "outputs": [
        {
          "output_type": "stream",
          "text": [
            "                 OS Name    RAM  ...  System Manufacturer  Umur\n",
            "Device Name                      ...                           \n",
            "17106103MKS            3   1015  ...                    1    13\n",
            "990180102CCR          23   8015  ...                    1     0\n",
            "WM2PC018544           23  16186  ...                    1     1\n",
            "RRC15200060017         9   3495  ...                    4     5\n",
            "1150076_CHN           15   2013  ...                   23     6\n",
            "...                  ...    ...  ...                  ...   ...\n",
            "CLO99018096024         1    989  ...                    4    10\n",
            "CLO99018178009         1    987  ...                    2     9\n",
            "WM2PC0105620100       23   3932  ...                    1     1\n",
            "10601058RLT           23   3920  ...                    1     1\n",
            "1060194CLOAN           3   1947  ...                    4     5\n",
            "\n",
            "[100 rows x 7 columns]\n"
          ],
          "name": "stdout"
        }
      ]
    },
    {
      "cell_type": "code",
      "metadata": {
        "colab": {
          "base_uri": "https://localhost:8080/"
        },
        "id": "YZUjYht0Fiir",
        "outputId": "71a54733-94a5-43bc-c662-0883ae6d3ab1"
      },
      "source": [
        "import pandas as pd\n",
        "from sklearn import preprocessing\n",
        "\n",
        "min_max_scaler = preprocessing.MinMaxScaler()\n",
        "names = df.columns\n",
        "data_scaled = min_max_scaler.fit_transform(df)\n",
        "data = pd.DataFrame(data_scaled, columns=names)\n",
        "print(data)"
      ],
      "execution_count": null,
      "outputs": [
        {
          "output_type": "stream",
          "text": [
            "     OS Name       RAM  ...  System Manufacturer      Umur\n",
            "0   0.090909  0.016575  ...             0.000000  0.866667\n",
            "1   1.000000  0.468043  ...             0.000000  0.000000\n",
            "2   1.000000  0.995034  ...             0.000000  0.066667\n",
            "3   0.363636  0.176524  ...             0.136364  0.333333\n",
            "4   0.636364  0.080942  ...             1.000000  0.400000\n",
            "..       ...       ...  ...                  ...       ...\n",
            "95  0.000000  0.014898  ...             0.136364  0.666667\n",
            "96  0.000000  0.014769  ...             0.045455  0.600000\n",
            "97  1.000000  0.204708  ...             0.000000  0.066667\n",
            "98  1.000000  0.203934  ...             0.000000  0.066667\n",
            "99  0.090909  0.076685  ...             0.136364  0.333333\n",
            "\n",
            "[100 rows x 7 columns]\n"
          ],
          "name": "stdout"
        }
      ]
    },
    {
      "cell_type": "code",
      "metadata": {
        "colab": {
          "base_uri": "https://localhost:8080/"
        },
        "id": "V7vTiM9mFxK4",
        "outputId": "5e88d548-c282-4f68-ca3d-31f27244e502"
      },
      "source": [
        "#ambil medoid acak\n",
        "def init_medoids(X, k):\n",
        "    from numpy.random import choice\n",
        "\n",
        "    samples = choice(len(X), size=k, replace=False)\n",
        "    return X.iloc[samples, :]\n",
        "\n",
        "medoids_initial = init_medoids(data, 3)\n",
        "\n",
        "print(medoids_initial)"
      ],
      "execution_count": null,
      "outputs": [
        {
          "output_type": "stream",
          "text": [
            "     OS Name       RAM  ...  System Manufacturer      Umur\n",
            "89  0.090909  0.175298  ...                  0.0  0.466667\n",
            "20  0.000000  0.175234  ...                  0.0  0.466667\n",
            "65  0.090909  0.175298  ...                  0.0  0.466667\n",
            "\n",
            "[3 rows x 7 columns]\n"
          ],
          "name": "stdout"
        }
      ]
    },
    {
      "cell_type": "code",
      "metadata": {
        "colab": {
          "base_uri": "https://localhost:8080/"
        },
        "id": "hR442Y7JF_yD",
        "outputId": "5359d3af-1774-4a3a-89c4-5f3d5028dcba"
      },
      "source": [
        "\n",
        "def distance(X, medoids):\n",
        "    m = len(X)\n",
        "    X = X.values\n",
        "    medoids_shape = medoids.shape\n",
        "    if len(medoids_shape) == 1: \n",
        "        medoids = medoids.reshape((1,len(medoids)))\n",
        "    k = len(medoids)\n",
        "\n",
        "    S = np.empty((m, k))\n",
        "    \n",
        "    for i in range(m):\n",
        "       S[i, :] = np.linalg.norm(medoids - X[i, :], axis=1).reshape(1,len(medoids))\n",
        "\n",
        "    return S\n",
        "\n",
        "print('==========EUCLIDEAN DISTANCE==========\\n')\n",
        "distance_awal = distance(data, medoids_initial)\n",
        "np.set_printoptions(threshold=5)\n",
        "print(distance_awal)"
      ],
      "execution_count": null,
      "outputs": [
        {
          "output_type": "stream",
          "text": [
            "==========EUCLIDEAN DISTANCE==========\n",
            "\n",
            "[[0.92267824 0.92852247 0.89866902]\n",
            " [1.06579339 1.14430475 1.08709226]\n",
            " [1.50003869 1.55681956 1.61986584]\n",
            " ...\n",
            " [1.06551001 1.14402741 1.08681572]\n",
            " [1.06550018 1.14400962 1.08679838]\n",
            " [0.94771825 0.95208155 0.97165779]]\n"
          ],
          "name": "stdout"
        }
      ]
    },
    {
      "cell_type": "code",
      "metadata": {
        "colab": {
          "base_uri": "https://localhost:8080/"
        },
        "id": "WYQEwy8kXPb2",
        "outputId": "062b2328-95ad-45dc-d748-f0c61a7ab6af"
      },
      "source": [
        "def clustering(S):\n",
        "    return np.argmin(S, axis=1)\n",
        "\n",
        "cluster_awal = clustering(distance_awal)\n",
        "print(\"===========================HASIL CLUSTERING AWAL==========================\\n\")\n",
        "np.set_printoptions(threshold=np.inf)\n",
        "print(cluster_awal)"
      ],
      "execution_count": null,
      "outputs": [
        {
          "output_type": "stream",
          "text": [
            "===========================HASIL CLUSTERING AWAL==========================\n",
            "\n",
            "[2 0 0 0 0 0 0 2 2 0 2 2 0 2 0 0 0 0 2 2 1 0 0 0 0 0 0 1 0 0 0 0 0 0 0 0 0\n",
            " 1 0 1 0 0 0 0 0 0 0 1 0 0 0 0 0 0 0 0 0 0 0 2 0 0 0 0 0 2 0 0 0 2 0 0 2 2\n",
            " 2 0 0 0 0 0 0 0 0 0 0 0 0 0 0 0 0 0 0 0 0 2 2 0 0 0]\n"
          ],
          "name": "stdout"
        }
      ]
    },
    {
      "cell_type": "code",
      "metadata": {
        "colab": {
          "base_uri": "https://localhost:8080/"
        },
        "id": "xL87bn5rcy82",
        "outputId": "1a18f239-e0db-42a8-aacd-dbafb25ebfb1"
      },
      "source": [
        "def update_medoids(X, medoids):\n",
        "    distance_awal = distance(data, medoids)\n",
        "    old_medoids = medoids\n",
        "    out_cluster = 0\n",
        "    status = False\n",
        "    counter = 0\n",
        "\n",
        "  #  print(\"==========MEDOID LAMA==========\")\n",
        "  #  print(old_medoids)\n",
        "    old_cluster = clustering(distance_awal)\n",
        "    cluster_baru = pd.DataFrame()\n",
        "    \n",
        "    for i in (set(old_cluster)):\n",
        "      status = True\n",
        "      while status == True:\n",
        "        if len(cluster_baru) > 0:\n",
        "          temp_cluster = data[cluster_baru == i]\n",
        "        else:\n",
        "          temp_cluster = data[old_cluster == i]\n",
        "            \n",
        "        for j in range (len(temp_cluster)):\n",
        "          second_medoids = old_medoids\n",
        "          temp_val = temp_cluster.iloc[[j]]\n",
        "          temp_medoids_1 = second_medoids[:i+1]\n",
        "          temp_medoids_2 = second_medoids[i+1:]\n",
        "          second_medoids = pd.concat([temp_medoids_1, temp_val])\n",
        "          second_medoids = pd.concat([second_medoids, temp_medoids_2])\n",
        "\n",
        "          second_medoids = second_medoids[~second_medoids.index.duplicated(keep='last')]\n",
        "          if len(second_medoids) > 3: #jumlah cluster\n",
        "            second_medoids = second_medoids.drop(second_medoids.index[i])\n",
        "          \n",
        "          if second_medoids.equals(old_medoids) == False and second_medoids.index[i] != old_medoids.index[i]:\n",
        "            distance_awal = distance(data, old_medoids)\n",
        "\n",
        "            distance_baru = distance(data, second_medoids)\n",
        "            \n",
        "            avg_dist = 0\n",
        "            for k in distance_awal[:]:\n",
        "              avg_dist += k.min()\n",
        "\n",
        "            new_dist = 0\n",
        "            for k in distance_baru[:]:\n",
        "              new_dist += k.min()\n",
        "\n",
        "            if new_dist - avg_dist < 0:\n",
        "              cluster_baru = clustering(distance_baru)\n",
        "              old_medoids = second_medoids\n",
        "              out_cluster = cluster_baru\n",
        "            else:\n",
        "              cluster_baru = clustering(distance_awal)\n",
        "\n",
        "          if (j+1) == len(temp_cluster):\n",
        "            status = False\n",
        "\n",
        "    return cluster_baru, old_medoids\n",
        "\n",
        "newm = update_medoids(data, medoids_initial)\n",
        "cluster_final = newm[0]\n",
        "medoid_final = newm[1]\n",
        "print(\"==========MEDOID FINAL========\\n\", medoid_final)\n",
        "print(\"\\n==========CLUSTER========\\n\", cluster_final)"
      ],
      "execution_count": null,
      "outputs": [
        {
          "output_type": "stream",
          "text": [
            "==========MEDOID FINAL========\n",
            "      OS Name       RAM  ...  System Manufacturer      Umur\n",
            "91  0.545455  0.207610  ...             0.045455  0.266667\n",
            "28  0.090909  0.139568  ...             0.136364  0.533333\n",
            "55  0.090909  0.175298  ...             0.000000  0.466667\n",
            "\n",
            "[3 rows x 7 columns]\n",
            "\n",
            "==========CLUSTER========\n",
            " [1 0 0 0 0 2 0 1 1 0 1 1 2 1 1 0 1 2 0 2 2 2 2 2 2 2 2 1 1 0 2 0 2 1 2 2 2\n",
            " 2 2 1 2 0 1 2 0 0 2 2 0 0 2 2 2 2 0 2 1 0 1 1 0 2 0 0 0 2 2 2 2 2 2 0 1 1\n",
            " 2 0 0 0 2 0 0 2 1 2 0 0 2 2 0 2 0 0 2 1 1 1 1 0 0 1]\n"
          ],
          "name": "stdout"
        }
      ]
    },
    {
      "cell_type": "code",
      "metadata": {
        "colab": {
          "base_uri": "https://localhost:8080/"
        },
        "id": "3nUCAZ0Obs7N",
        "outputId": "b4b1a8e6-f32d-4337-c652-5d377a9cb2aa"
      },
      "source": [
        "#silhouette coefficient\n",
        "from sklearn.metrics import silhouette_samples, silhouette_score\n",
        "\n",
        "silhouette_avg = silhouette_score(data, cluster_final)\n",
        "print(\"Nilai silhouette_score adalah:\", silhouette_avg)\n",
        "print('')\n"
      ],
      "execution_count": null,
      "outputs": [
        {
          "output_type": "stream",
          "text": [
            "Nilai silhouette_score adalah: 0.49570355068512456\n",
            "\n"
          ],
          "name": "stdout"
        }
      ]
    },
    {
      "cell_type": "markdown",
      "metadata": {
        "id": "v12h4_9a9StX"
      },
      "source": [
        "--VISUALISASI--"
      ]
    },
    {
      "cell_type": "code",
      "metadata": {
        "colab": {
          "base_uri": "https://localhost:8080/",
          "height": 198
        },
        "id": "_h_vNONFWqwA",
        "outputId": "78967c0c-85ef-4c7c-f26a-0dee3f14f5c6"
      },
      "source": [
        "from sklearn.decomposition import PCA\n",
        "pca = PCA(n_components=3)\n",
        "principalComponents = pca.fit_transform(data)\n",
        "PCAdf = pd.DataFrame(data = principalComponents , columns = ['principal component 1', 'principal component 2','principal component 3'])\n",
        "\n",
        "datapoints = PCAdf.values\n",
        "PCAdf.head()"
      ],
      "execution_count": null,
      "outputs": [
        {
          "output_type": "execute_result",
          "data": {
            "text/html": [
              "<div>\n",
              "<style scoped>\n",
              "    .dataframe tbody tr th:only-of-type {\n",
              "        vertical-align: middle;\n",
              "    }\n",
              "\n",
              "    .dataframe tbody tr th {\n",
              "        vertical-align: top;\n",
              "    }\n",
              "\n",
              "    .dataframe thead th {\n",
              "        text-align: right;\n",
              "    }\n",
              "</style>\n",
              "<table border=\"1\" class=\"dataframe\">\n",
              "  <thead>\n",
              "    <tr style=\"text-align: right;\">\n",
              "      <th></th>\n",
              "      <th>principal component 1</th>\n",
              "      <th>principal component 2</th>\n",
              "      <th>principal component 3</th>\n",
              "    </tr>\n",
              "  </thead>\n",
              "  <tbody>\n",
              "    <tr>\n",
              "      <th>0</th>\n",
              "      <td>-0.592727</td>\n",
              "      <td>0.461026</td>\n",
              "      <td>-0.242709</td>\n",
              "    </tr>\n",
              "    <tr>\n",
              "      <th>1</th>\n",
              "      <td>0.803855</td>\n",
              "      <td>0.042245</td>\n",
              "      <td>0.122659</td>\n",
              "    </tr>\n",
              "    <tr>\n",
              "      <th>2</th>\n",
              "      <td>1.031639</td>\n",
              "      <td>-0.189001</td>\n",
              "      <td>0.649092</td>\n",
              "    </tr>\n",
              "    <tr>\n",
              "      <th>3</th>\n",
              "      <td>0.095422</td>\n",
              "      <td>-0.126955</td>\n",
              "      <td>0.157429</td>\n",
              "    </tr>\n",
              "    <tr>\n",
              "      <th>4</th>\n",
              "      <td>0.193275</td>\n",
              "      <td>0.197102</td>\n",
              "      <td>-0.194191</td>\n",
              "    </tr>\n",
              "  </tbody>\n",
              "</table>\n",
              "</div>"
            ],
            "text/plain": [
              "   principal component 1  principal component 2  principal component 3\n",
              "0              -0.592727               0.461026              -0.242709\n",
              "1               0.803855               0.042245               0.122659\n",
              "2               1.031639              -0.189001               0.649092\n",
              "3               0.095422              -0.126955               0.157429\n",
              "4               0.193275               0.197102              -0.194191"
            ]
          },
          "metadata": {
            "tags": []
          },
          "execution_count": 43
        }
      ]
    },
    {
      "cell_type": "code",
      "metadata": {
        "colab": {
          "base_uri": "https://localhost:8080/",
          "height": 463
        },
        "id": "Z2SQxVKFV-3d",
        "outputId": "e733ffab-5c3a-42e5-f8db-f24af50027f7"
      },
      "source": [
        "#Visualization\n",
        "from mpl_toolkits.mplot3d import Axes3D\n",
        "fig = plt.figure(1, figsize=(8, 6))\n",
        "ax = Axes3D(fig, elev=-150, azim=110)\n",
        "X_reduced = datapoints\n",
        "ax.scatter(X_reduced[:, 0], X_reduced[:, 1], X_reduced[:, 2], c=cluster_final,\n",
        "           cmap=plt.cm.Set1, edgecolor='k', s=40)\n",
        "ax.set_title(\"Visualisasi Pengelompokkan Kondisi Komputer PT Bank X menggunakan PCA\")\n",
        "ax.set_xlabel(\"principal component 1\")\n",
        "ax.w_xaxis.set_ticklabels([])\n",
        "ax.set_ylabel(\"principal component 2\")\n",
        "ax.w_yaxis.set_ticklabels([])\n",
        "ax.set_zlabel(\"principal component 3\")\n",
        "ax.w_zaxis.set_ticklabels([])\n",
        "plt.show()"
      ],
      "execution_count": null,
      "outputs": [
        {
          "output_type": "display_data",
          "data": {
            "image/png": "[encoded data removed]",
            "text/plain": [
              "<Figure size 576x432 with 1 Axes>"
            ]
          },
          "metadata": {
            "tags": [],
            "needs_background": "light"
          }
        }
      ]
    },
    {
      "cell_type": "code",
      "metadata": {
        "colab": {
          "base_uri": "https://localhost:8080/",
          "height": 245
        },
        "id": "z4jN1hkWe09n",
        "outputId": "b4b68c35-38f5-407f-cd87-3254df8f4eed"
      },
      "source": [
        "df['Cluster'] = cluster_final\n",
        "df.head()"
      ],
      "execution_count": null,
      "outputs": [
        {
          "output_type": "execute_result",
          "data": {
            "text/html": [
              "<div>\n",
              "<style scoped>\n",
              "    .dataframe tbody tr th:only-of-type {\n",
              "        vertical-align: middle;\n",
              "    }\n",
              "\n",
              "    .dataframe tbody tr th {\n",
              "        vertical-align: top;\n",
              "    }\n",
              "\n",
              "    .dataframe thead th {\n",
              "        text-align: right;\n",
              "    }\n",
              "</style>\n",
              "<table border=\"1\" class=\"dataframe\">\n",
              "  <thead>\n",
              "    <tr style=\"text-align: right;\">\n",
              "      <th></th>\n",
              "      <th>OS Name</th>\n",
              "      <th>RAM</th>\n",
              "      <th>Processor Type</th>\n",
              "      <th>Harddisk Size</th>\n",
              "      <th>Application Errors</th>\n",
              "      <th>System Manufacturer</th>\n",
              "      <th>Umur</th>\n",
              "      <th>Cluster</th>\n",
              "    </tr>\n",
              "    <tr>\n",
              "      <th>Device Name</th>\n",
              "      <th></th>\n",
              "      <th></th>\n",
              "      <th></th>\n",
              "      <th></th>\n",
              "      <th></th>\n",
              "      <th></th>\n",
              "      <th></th>\n",
              "      <th></th>\n",
              "    </tr>\n",
              "  </thead>\n",
              "  <tbody>\n",
              "    <tr>\n",
              "      <th>17106103MKS</th>\n",
              "      <td>3</td>\n",
              "      <td>1015</td>\n",
              "      <td>5</td>\n",
              "      <td>76317</td>\n",
              "      <td>1629</td>\n",
              "      <td>1</td>\n",
              "      <td>13</td>\n",
              "      <td>1</td>\n",
              "    </tr>\n",
              "    <tr>\n",
              "      <th>990180102CCR</th>\n",
              "      <td>23</td>\n",
              "      <td>8015</td>\n",
              "      <td>14</td>\n",
              "      <td>476938</td>\n",
              "      <td>11</td>\n",
              "      <td>1</td>\n",
              "      <td>0</td>\n",
              "      <td>0</td>\n",
              "    </tr>\n",
              "    <tr>\n",
              "      <th>WM2PC018544</th>\n",
              "      <td>23</td>\n",
              "      <td>16186</td>\n",
              "      <td>16</td>\n",
              "      <td>1907727</td>\n",
              "      <td>2</td>\n",
              "      <td>1</td>\n",
              "      <td>1</td>\n",
              "      <td>0</td>\n",
              "    </tr>\n",
              "    <tr>\n",
              "      <th>RRC15200060017</th>\n",
              "      <td>9</td>\n",
              "      <td>3495</td>\n",
              "      <td>14</td>\n",
              "      <td>953867</td>\n",
              "      <td>45</td>\n",
              "      <td>4</td>\n",
              "      <td>5</td>\n",
              "      <td>0</td>\n",
              "    </tr>\n",
              "    <tr>\n",
              "      <th>1150076_CHN</th>\n",
              "      <td>15</td>\n",
              "      <td>2013</td>\n",
              "      <td>12</td>\n",
              "      <td>469572</td>\n",
              "      <td>29</td>\n",
              "      <td>23</td>\n",
              "      <td>6</td>\n",
              "      <td>0</td>\n",
              "    </tr>\n",
              "  </tbody>\n",
              "</table>\n",
              "</div>"
            ],
            "text/plain": [
              "                OS Name    RAM  ...  Umur  Cluster\n",
              "Device Name                     ...               \n",
              "17106103MKS           3   1015  ...    13        1\n",
              "990180102CCR         23   8015  ...     0        0\n",
              "WM2PC018544          23  16186  ...     1        0\n",
              "RRC15200060017        9   3495  ...     5        0\n",
              "1150076_CHN          15   2013  ...     6        0\n",
              "\n",
              "[5 rows x 8 columns]"
            ]
          },
          "metadata": {
            "tags": []
          },
          "execution_count": 45
        }
      ]
    },
    {
      "cell_type": "code",
      "metadata": {
        "id": "4d-HJY9nfLH-"
      },
      "source": [
        "df.to_excel(\"CLUSTERING_SAMPLE DATA.xlsx\")  "
      ],
      "execution_count": null,
      "outputs": []
    },
    {
      "cell_type": "code",
      "metadata": {
        "id": "aYEzvJXe7fNx"
      },
      "source": [
        ""
      ],
      "execution_count": null,
      "outputs": []
    }
  ]
}